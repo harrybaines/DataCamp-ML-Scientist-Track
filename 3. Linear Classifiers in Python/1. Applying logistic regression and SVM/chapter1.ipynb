{
 "cells": [
  {
   "cell_type": "markdown",
   "id": "96a7d174-f9fc-448d-8dfe-4ac82593d7a8",
   "metadata": {},
   "source": [
    "# 3. Linear Classifiers in Python"
   ]
  },
  {
   "cell_type": "markdown",
   "id": "7408ba5b-d544-4244-8309-f64ba4da410e",
   "metadata": {},
   "source": [
    "### 1. Applying logistic regression and SVM"
   ]
  },
  {
   "cell_type": "markdown",
   "id": "c182b242-ac8f-4173-8698-6ae2c16595a3",
   "metadata": {},
   "source": [
    "### Model Selection"
   ]
  },
  {
   "cell_type": "code",
   "execution_count": 50,
   "id": "9119dc76-4522-4cdf-935b-6324085236db",
   "metadata": {},
   "outputs": [],
   "source": [
    "from sklearn.datasets import load_digits\n",
    "from sklearn.neighbors import KNeighborsClassifier \n",
    "from sklearn.model_selection import train_test_split\n",
    "import numpy as np"
   ]
  },
  {
   "cell_type": "code",
   "execution_count": 34,
   "id": "1c469d5f-6541-4a0d-91fb-1e92b097cd0c",
   "metadata": {},
   "outputs": [],
   "source": [
    "digits = load_digits()"
   ]
  },
  {
   "cell_type": "code",
   "execution_count": 35,
   "id": "30dcae6d-0a53-41f9-b177-2ecdb3431dda",
   "metadata": {},
   "outputs": [],
   "source": [
    "X = digits.data\n",
    "y = digits.target"
   ]
  },
  {
   "cell_type": "code",
   "execution_count": 57,
   "id": "48d14b5e-6fc5-48c0-90c8-4d7029efeebf",
   "metadata": {},
   "outputs": [],
   "source": [
    "X_train, X_test, y_train, y_test = train_test_split(\n",
    "    X, y, test_size=0.25, random_state=40\n",
    ")"
   ]
  },
  {
   "cell_type": "markdown",
   "id": "da7cd315-e9ef-42d8-ad64-cd7d0487b58e",
   "metadata": {},
   "source": [
    "Let's see how changing $k$ changes test accuracy for the digits dataset:"
   ]
  },
  {
   "cell_type": "code",
   "execution_count": 58,
   "id": "67f00a41-1fd8-450b-ba3e-3477a8a922c0",
   "metadata": {},
   "outputs": [
    {
     "data": {
      "text/plain": [
       "((1347, 64), (450, 64))"
      ]
     },
     "execution_count": 58,
     "metadata": {},
     "output_type": "execute_result"
    }
   ],
   "source": [
    "X_train.shape, X_test.shape"
   ]
  },
  {
   "cell_type": "code",
   "execution_count": 60,
   "id": "f629feb8-bff9-4d4e-b35e-304327cf8f29",
   "metadata": {},
   "outputs": [
    {
     "name": "stdout",
     "output_type": "stream",
     "text": [
      "[1 neighbor(s)] accuracy: 0.9822222222222222\n",
      "[5 neighbor(s)] accuracy: 0.9755555555555555\n"
     ]
    }
   ],
   "source": [
    "for k in [1, 5]:\n",
    "    knn = KNeighborsClassifier(n_neighbors=k)\n",
    "    knn.fit(X_train, y_train)\n",
    "    print(f'[{k} neighbor(s)] accuracy: {knn.score(X_test, y_test)}')"
   ]
  },
  {
   "cell_type": "markdown",
   "id": "8156e5fc-6159-4ca5-a3a8-45b906d9ce7c",
   "metadata": {},
   "source": [
    "We see the model with only 1 neighbor gives the highest test accuracy."
   ]
  },
  {
   "cell_type": "markdown",
   "id": "3db70b3b-12b2-44b2-bb43-179e79dad35e",
   "metadata": {},
   "source": [
    "### Overfitting"
   ]
  },
  {
   "cell_type": "markdown",
   "id": "b8058ab9-5c2e-4bbf-bd87-2257b057066a",
   "metadata": {},
   "source": [
    "If we get a training accuracy of 95%, and a testing accuracy of 50%, it looks like overfitting!"
   ]
  },
  {
   "cell_type": "markdown",
   "id": "4ba47a5c-4164-4402-8eb3-12faee41a779",
   "metadata": {},
   "source": [
    "### Running LogisticRegression and SVC"
   ]
  },
  {
   "cell_type": "markdown",
   "id": "c47008d0-b7a2-45af-80df-e4c0d38af532",
   "metadata": {},
   "source": [
    "Next, let's see how LogisticRegression and SVC perform:"
   ]
  },
  {
   "cell_type": "code",
   "execution_count": 63,
   "id": "c0f128bb-3c19-48dc-bf2f-0542a3206685",
   "metadata": {},
   "outputs": [],
   "source": [
    "from sklearn.linear_model import LogisticRegression\n",
    "from sklearn.svm import SVC"
   ]
  },
  {
   "cell_type": "code",
   "execution_count": 64,
   "id": "97899aca-32b6-4e13-8f65-481a72befb68",
   "metadata": {},
   "outputs": [],
   "source": [
    "X_train, X_test, y_train, y_test = train_test_split(X, y)"
   ]
  },
  {
   "cell_type": "code",
   "execution_count": 65,
   "id": "edb2f380-defe-45a0-b775-330c6c32599a",
   "metadata": {},
   "outputs": [
    {
     "name": "stdout",
     "output_type": "stream",
     "text": [
      "1.0\n",
      "0.9755555555555555\n"
     ]
    },
    {
     "name": "stderr",
     "output_type": "stream",
     "text": [
      "/Users/harrybaines/Documents/Coding/DataCamp-ML-Scientist-Track/datacampenv/lib/python3.9/site-packages/sklearn/linear_model/_logistic.py:444: ConvergenceWarning: lbfgs failed to converge (status=1):\n",
      "STOP: TOTAL NO. of ITERATIONS REACHED LIMIT.\n",
      "\n",
      "Increase the number of iterations (max_iter) or scale the data as shown in:\n",
      "    https://scikit-learn.org/stable/modules/preprocessing.html\n",
      "Please also refer to the documentation for alternative solver options:\n",
      "    https://scikit-learn.org/stable/modules/linear_model.html#logistic-regression\n",
      "  n_iter_i = _check_optimize_result(\n"
     ]
    }
   ],
   "source": [
    "lr = LogisticRegression()\n",
    "lr.fit(X_train, y_train)\n",
    "print(lr.score(X_train, y_train))\n",
    "print(lr.score(X_test, y_test))"
   ]
  },
  {
   "cell_type": "code",
   "execution_count": 66,
   "id": "5e94618c-04d1-4fee-b677-cc120d59b968",
   "metadata": {},
   "outputs": [
    {
     "name": "stdout",
     "output_type": "stream",
     "text": [
      "0.9970304380103935\n",
      "0.9911111111111112\n"
     ]
    }
   ],
   "source": [
    "svm = SVC()\n",
    "svm.fit(X_train, y_train)\n",
    "print(svm.score(X_train, y_train))\n",
    "print(svm.score(X_test, y_test))"
   ]
  },
  {
   "cell_type": "markdown",
   "id": "0b8f4a4c-4825-4e95-98b6-0ea00f9d25f5",
   "metadata": {},
   "source": [
    "Here we see SVC performs better across training and testing sets compared to LogisticRegression."
   ]
  },
  {
   "cell_type": "markdown",
   "id": "7ff3362b-b0f2-45db-8280-6638ee4fb494",
   "metadata": {},
   "source": [
    "### Sentiment analysis for movie reviews"
   ]
  },
  {
   "cell_type": "markdown",
   "id": "1c48b186-e7f0-4a19-be28-8939b6987658",
   "metadata": {},
   "source": [
    "(Due to DataCamp making it difficult to download datasets and view code used behind the scenes, here is the code and output from running in their online terminal)"
   ]
  },
  {
   "cell_type": "markdown",
   "id": "5967b9ff-2cf0-4c87-967c-1397e077afad",
   "metadata": {},
   "source": [
    "```python\n",
    "lr = LogisticRegression()\n",
    "lr.fit(X, y)\n",
    "```"
   ]
  },
  {
   "cell_type": "markdown",
   "id": "421a14a6-c4fc-4c10-9261-09417f65be7b",
   "metadata": {},
   "source": [
    "```python\n",
    "# Predict sentiment for a glowing review\n",
    "review1 = \"LOVED IT! This movie was amazing. Top 10 this year.\"\n",
    "review1_features = get_features(review1)\n",
    "print(\"Review:\", review1)\n",
    "print(\"Probability of positive review:\", lr.predict_proba(review1_features)[0, 1])\n",
    "```"
   ]
  },
  {
   "cell_type": "markdown",
   "id": "14d255d0-f5d6-4d30-8d75-69b12c311ca2",
   "metadata": {},
   "source": [
    "```python\n",
    "# Predict sentiment for a poor review\n",
    "review2 = \"Total junk! I'll never watch a film by that director again, no matter how good the reviews.\"\n",
    "review2_features = get_features(review2)\n",
    "print(\"Review:\", review2)\n",
    "print(\"Probability of positive review:\", lr.predict_proba(review2_features)[0, 1])\n",
    "```"
   ]
  },
  {
   "cell_type": "markdown",
   "id": "7dfc8f10-d5c0-4e4b-b1c1-b271709a99dc",
   "metadata": {},
   "source": [
    "```\n",
    "<script.py> output:\n",
    "    Review: LOVED IT! This movie was amazing. Top 10 this year.\n",
    "    Probability of positive review: 0.8111514459711535\n",
    "    Review: Total junk! I'll never watch a film by that director again, no matter how good the reviews.\n",
    "    Probability of positive review: 0.5902983081147027\n",
    "```"
   ]
  },
  {
   "cell_type": "markdown",
   "id": "1e79f013-60f9-43e4-bcee-87928155a8a8",
   "metadata": {},
   "source": [
    "The second probability should be lower, but the word 'good' confuses the model slightly because it's a positive word."
   ]
  },
  {
   "cell_type": "markdown",
   "id": "d1fcbcaa-ca70-4b2b-a566-8e778d8294cc",
   "metadata": {},
   "source": [
    "### Visualising decision boundaries"
   ]
  },
  {
   "cell_type": "code",
   "execution_count": 107,
   "id": "857f0421-6b16-4d84-9a9a-7c046b843c9e",
   "metadata": {},
   "outputs": [],
   "source": [
    "from sklearn.datasets import load_wine\n",
    "import matplotlib.pyplot as plt"
   ]
  },
  {
   "cell_type": "code",
   "execution_count": 108,
   "id": "72f829a0-83d4-4501-93e4-1fb730c09671",
   "metadata": {},
   "outputs": [],
   "source": [
    "wine = load_wine()"
   ]
  },
  {
   "cell_type": "code",
   "execution_count": 181,
   "id": "42293e82-8d09-4314-b323-be7e18ee964a",
   "metadata": {},
   "outputs": [],
   "source": [
    "data_len = 130"
   ]
  },
  {
   "cell_type": "code",
   "execution_count": 182,
   "id": "7b643947-2f5f-4759-804d-f3bd0a04d1a2",
   "metadata": {},
   "outputs": [],
   "source": [
    "X = wine.data[:data_len, 0:2]\n",
    "y = wine.target[:data_len]"
   ]
  },
  {
   "cell_type": "code",
   "execution_count": 183,
   "id": "1772dabb-f247-4614-bacb-2d98bbb2b2c9",
   "metadata": {},
   "outputs": [
    {
     "data": {
      "text/plain": [
       "((130, 2), (130,))"
      ]
     },
     "execution_count": 183,
     "metadata": {},
     "output_type": "execute_result"
    }
   ],
   "source": [
    "X.shape, y.shape"
   ]
  },
  {
   "cell_type": "code",
   "execution_count": 184,
   "id": "61b27159-708a-48ff-bd18-900cf2d20967",
   "metadata": {},
   "outputs": [
    {
     "data": {
      "text/plain": [
       "array([0, 0, 0, 0, 0, 0, 0, 0, 0, 0, 0, 0, 0, 0, 0, 0, 0, 0, 0, 0, 0, 0,\n",
       "       0, 0, 0, 0, 0, 0, 0, 0, 0, 0, 0, 0, 0, 0, 0, 0, 0, 0, 0, 0, 0, 0,\n",
       "       0, 0, 0, 0, 0, 0, 0, 0, 0, 0, 0, 0, 0, 0, 0, 1, 1, 1, 1, 1, 1, 1,\n",
       "       1, 1, 1, 1, 1, 1, 1, 1, 1, 1, 1, 1, 1, 1, 1, 1, 1, 1, 1, 1, 1, 1,\n",
       "       1, 1, 1, 1, 1, 1, 1, 1, 1, 1, 1, 1, 1, 1, 1, 1, 1, 1, 1, 1, 1, 1,\n",
       "       1, 1, 1, 1, 1, 1, 1, 1, 1, 1, 1, 1, 1, 1, 1, 1, 1, 1, 1, 1])"
      ]
     },
     "execution_count": 184,
     "metadata": {},
     "output_type": "execute_result"
    }
   ],
   "source": [
    "y"
   ]
  },
  {
   "cell_type": "code",
   "execution_count": 185,
   "id": "ed0548b4-b861-4756-aa80-f1d27372b434",
   "metadata": {},
   "outputs": [],
   "source": [
    "from sklearn.svm import LinearSVC"
   ]
  },
  {
   "cell_type": "code",
   "execution_count": 186,
   "id": "de32a8c1-be79-4906-a3fd-cebff8833d78",
   "metadata": {},
   "outputs": [],
   "source": [
    "classifiers = [LogisticRegression(), LinearSVC(), SVC(), KNeighborsClassifier()]"
   ]
  },
  {
   "cell_type": "code",
   "execution_count": 187,
   "id": "77e421a4-0fa1-4497-8431-5268d2b3ef1c",
   "metadata": {},
   "outputs": [
    {
     "name": "stderr",
     "output_type": "stream",
     "text": [
      "/Users/harrybaines/Documents/Coding/DataCamp-ML-Scientist-Track/datacampenv/lib/python3.9/site-packages/sklearn/svm/_base.py:1225: ConvergenceWarning: Liblinear failed to converge, increase the number of iterations.\n",
      "  warnings.warn(\n"
     ]
    }
   ],
   "source": [
    "for c in classifiers:\n",
    "    c.fit(X, y)"
   ]
  },
  {
   "cell_type": "code",
   "execution_count": 188,
   "id": "bf05cfb4-774e-4ee1-8955-35ad601ddac0",
   "metadata": {},
   "outputs": [],
   "source": [
    "def plot_4_classifiers(X, y, clfs):\n",
    "    fig, sub = plt.subplots(2, 2)\n",
    "    plt.subplots_adjust(wspace=0.2, hspace=0.2)\n",
    "    for clf, ax, title in zip(clfs, sub.flatten(), (\"(1)\", \"(2)\", \"(3)\", \"(4)\")):\n",
    "        clf.fit(X, y)\n",
    "        plot_classifier(X, y, clf, ax, ticks=True)\n",
    "        ax.set_title(title)\n",
    "    plt.show()"
   ]
  },
  {
   "cell_type": "code",
   "execution_count": 189,
   "id": "a379d1a7-1790-4c74-8fab-affc30ae5cac",
   "metadata": {},
   "outputs": [],
   "source": [
    "def plot_contours(ax, clf, xx, yy, proba=False, **params):\n",
    "    \"\"\"Plot the decision boundaries for a classifier.\n",
    "    \n",
    "    Parameters:\n",
    "        ax: matplotlib axes object\n",
    "        clf: a classifier\n",
    "        xx: meshgrid ndarray\n",
    "        yy: meshgrid ndarray\n",
    "        params: dictionary of params to pass to contourf, optional\n",
    "    \"\"\"\n",
    "    if proba:\n",
    "        Z = clf.predict_proba(np.c_[xx.ravel(), yy.ravel()])[:,-1]\n",
    "        Z = Z.reshape(xx.shape)\n",
    "        out = ax.imshow(Z,extent=(np.min(xx), np.max(xx), np.min(yy), np.max(yy)), origin='lower', vmin=0, vmax=1, **params)\n",
    "        ax.contour(xx, yy, Z, levels=[0.5])\n",
    "    else:\n",
    "        Z = clf.predict(np.c_[xx.ravel(), yy.ravel()])\n",
    "        Z = Z.reshape(xx.shape)\n",
    "        out = ax.contourf(xx, yy, Z, **params)\n",
    "    return out\n"
   ]
  },
  {
   "cell_type": "code",
   "execution_count": 190,
   "id": "d78b9cbe-53ee-4704-82fa-582cb369d784",
   "metadata": {},
   "outputs": [],
   "source": [
    "def make_meshgrid(x, y, h=.02, lims=None):\n",
    "    \"\"\"Create a mesh of points to plot in\n",
    "    \n",
    "    Parameters:\n",
    "        x: data to base x-axis meshgrid on\n",
    "        y: data to base y-axis meshgrid on\n",
    "        h: stepsize for meshgrid, optional\n",
    "        \n",
    "    Returns:\n",
    "        xx, yy : ndarray\n",
    "    \"\"\"\n",
    "    if lims is None:\n",
    "        x_min, x_max = x.min() - 1, x.max() + 1\n",
    "        y_min, y_max = y.min() - 1, y.max() + 1\n",
    "    else:\n",
    "        x_min, x_max, y_min, y_max = lims\n",
    "    \n",
    "    xx, yy = np.meshgrid(np.arange(x_min, x_max, h), np.arange(y_min, y_max, h))\n",
    "        \n",
    "    return xx, yy"
   ]
  },
  {
   "cell_type": "code",
   "execution_count": 197,
   "id": "21891a57-6ad0-491a-973a-2286936d0fa2",
   "metadata": {},
   "outputs": [],
   "source": [
    "def plot_classifier(X, y, clf, ax=None, ticks=False, proba=False, lims=None):\n",
    "    # assumes classifier \"clf\" is already fit\n",
    "    X0, X1 = X[:, 0], X[:, 1]\n",
    "    xx, yy = make_meshgrid(X0, X1, lims=lims)\n",
    "    if ax is None:\n",
    "        plt.figure()\n",
    "        ax = plt.gca()\n",
    "        show = True\n",
    "    else:\n",
    "        show = False\n",
    "    \n",
    "    cs = plot_contours(ax, clf, xx, yy, cmap=plt.cm.coolwarm, alpha=0.8, proba=proba)\n",
    "    if proba:\n",
    "        cbar = plt.colorbar(cs)\n",
    "        cbar.ax.set_ylabel('probability of red $\\\\Delta$ class', fontsize=20, rotation=270, labelpad=30)\n",
    "        cbar.ax.tick_params(labelsize=14)\n",
    "        \n",
    "    ax.scatter(X0, X1, c=y, cmap=plt.cm.coolwarm, s=30, edgecolors='k', linewidth=1)\n",
    "    labels = np.unique(y)\n",
    "\n",
    "    if len(labels) == 2:\n",
    "        ax.scatter(X0[y==labels[0]], X1[y==labels[0]], cmap=plt.cm.coolwarm, s=60, c='b', marker='o', edgecolors='k')\n",
    "        ax.scatter(X0[y==labels[1]], X1[y==labels[1]], cmap=plt.cm.coolwarm, s=60, c='r', marker='^', edgecolors='k')\n",
    "    else:\n",
    "        ax.scatter(X0, X1, c=y, cmap=plt.cm.coolwarm, s=50, edgecolors='k', linewidth=1)\n",
    "    \n",
    "    ax.set_xlim(xx.min(), xx.max())\n",
    "    ax.set_ylim(yy.min(), yy.max())\n",
    "                   \n",
    "    if ticks:\n",
    "        ax.set_xticks(())\n",
    "        ax.set_yticks(())\n",
    "                   \n",
    "    if show:        \n",
    "        plt.show()\n",
    "    else:\n",
    "        return ax"
   ]
  },
  {
   "cell_type": "code",
   "execution_count": 198,
   "id": "82ca40fd-791c-4ed3-9c40-b22236a0540b",
   "metadata": {},
   "outputs": [
    {
     "name": "stderr",
     "output_type": "stream",
     "text": [
      "/var/folders/qj/n9btg2fd0h16sf_b0274f1p00000gn/T/ipykernel_96694/2949910148.py:22: UserWarning: No data for colormapping provided via 'c'. Parameters 'cmap' will be ignored\n",
      "  ax.scatter(X0[y==labels[0]], X1[y==labels[0]], cmap=plt.cm.coolwarm, s=60, c='b', marker='o', edgecolors='k')\n",
      "/var/folders/qj/n9btg2fd0h16sf_b0274f1p00000gn/T/ipykernel_96694/2949910148.py:23: UserWarning: No data for colormapping provided via 'c'. Parameters 'cmap' will be ignored\n",
      "  ax.scatter(X0[y==labels[1]], X1[y==labels[1]], cmap=plt.cm.coolwarm, s=60, c='r', marker='^', edgecolors='k')\n",
      "/Users/harrybaines/Documents/Coding/DataCamp-ML-Scientist-Track/datacampenv/lib/python3.9/site-packages/sklearn/svm/_base.py:1225: ConvergenceWarning: Liblinear failed to converge, increase the number of iterations.\n",
      "  warnings.warn(\n",
      "/var/folders/qj/n9btg2fd0h16sf_b0274f1p00000gn/T/ipykernel_96694/2949910148.py:22: UserWarning: No data for colormapping provided via 'c'. Parameters 'cmap' will be ignored\n",
      "  ax.scatter(X0[y==labels[0]], X1[y==labels[0]], cmap=plt.cm.coolwarm, s=60, c='b', marker='o', edgecolors='k')\n",
      "/var/folders/qj/n9btg2fd0h16sf_b0274f1p00000gn/T/ipykernel_96694/2949910148.py:23: UserWarning: No data for colormapping provided via 'c'. Parameters 'cmap' will be ignored\n",
      "  ax.scatter(X0[y==labels[1]], X1[y==labels[1]], cmap=plt.cm.coolwarm, s=60, c='r', marker='^', edgecolors='k')\n",
      "/var/folders/qj/n9btg2fd0h16sf_b0274f1p00000gn/T/ipykernel_96694/2949910148.py:22: UserWarning: No data for colormapping provided via 'c'. Parameters 'cmap' will be ignored\n",
      "  ax.scatter(X0[y==labels[0]], X1[y==labels[0]], cmap=plt.cm.coolwarm, s=60, c='b', marker='o', edgecolors='k')\n",
      "/var/folders/qj/n9btg2fd0h16sf_b0274f1p00000gn/T/ipykernel_96694/2949910148.py:23: UserWarning: No data for colormapping provided via 'c'. Parameters 'cmap' will be ignored\n",
      "  ax.scatter(X0[y==labels[1]], X1[y==labels[1]], cmap=plt.cm.coolwarm, s=60, c='r', marker='^', edgecolors='k')\n",
      "/var/folders/qj/n9btg2fd0h16sf_b0274f1p00000gn/T/ipykernel_96694/2949910148.py:22: UserWarning: No data for colormapping provided via 'c'. Parameters 'cmap' will be ignored\n",
      "  ax.scatter(X0[y==labels[0]], X1[y==labels[0]], cmap=plt.cm.coolwarm, s=60, c='b', marker='o', edgecolors='k')\n",
      "/var/folders/qj/n9btg2fd0h16sf_b0274f1p00000gn/T/ipykernel_96694/2949910148.py:23: UserWarning: No data for colormapping provided via 'c'. Parameters 'cmap' will be ignored\n",
      "  ax.scatter(X0[y==labels[1]], X1[y==labels[1]], cmap=plt.cm.coolwarm, s=60, c='r', marker='^', edgecolors='k')\n"
     ]
    },
    {
     "data": {
      "image/png": "[encoded data removed]",
      "text/plain": [
       "<Figure size 640x480 with 4 Axes>"
      ]
     },
     "metadata": {},
     "output_type": "display_data"
    }
   ],
   "source": [
    "# Plot the classifiers\n",
    "plot_4_classifiers(X, y, classifiers)\n",
    "plt.show()"
   ]
  },
  {
   "cell_type": "markdown",
   "id": "37847eac-7069-4002-8c8c-a198bc6e2eff",
   "metadata": {},
   "source": [
    "Here we see logistic regression and linear SVM are linear classifiers whereas KNN is not. The default SVM is also non-linear, but this is hard to see in the plot because it performs poorly with default hyperparameters. With better hyperparameters, it performs well."
   ]
  },
  {
   "cell_type": "code",
   "execution_count": null,
   "id": "4b6fbed2-34a2-471a-9f6b-2681891b6b2a",
   "metadata": {},
   "outputs": [],
   "source": []
  }
 ],
 "metadata": {
  "kernelspec": {
   "display_name": "datacampenv",
   "language": "python",
   "name": "datacampenv"
  },
  "language_info": {
   "codemirror_mode": {
    "name": "ipython",
    "version": 3
   },
   "file_extension": ".py",
   "mimetype": "text/x-python",
   "name": "python",
   "nbconvert_exporter": "python",
   "pygments_lexer": "ipython3",
   "version": "3.9.10"
  }
 },
 "nbformat": 4,
 "nbformat_minor": 5
}
