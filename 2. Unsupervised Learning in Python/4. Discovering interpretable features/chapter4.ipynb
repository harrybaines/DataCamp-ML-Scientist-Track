{
 "cells": [
  {
   "cell_type": "markdown",
   "id": "c776427f-cb06-45aa-ad85-f8ca92505c39",
   "metadata": {},
   "source": [
    "# 4. Discovering interpretable features"
   ]
  },
  {
   "cell_type": "markdown",
   "id": "3a47ab3a-521a-4c52-9368-662896f4c056",
   "metadata": {},
   "source": [
    "NMF = 'non-negative matrix factorization'\n",
    "\n",
    "NMF is a dimension reduction technique\n",
    "\n",
    "NMF models are interpretable, unlike PCA (and are easy to explain)\n",
    "\n",
    "However, all sample features must be non-negative (>= 0), e.g. word frequences in each document, images encoded as arrays, audio spectrograms, purchase histories on e-commerce sites"
   ]
  },
  {
   "cell_type": "markdown",
   "id": "29e0db88-290c-4dd7-a1ad-6c8195cfe8c1",
   "metadata": {},
   "source": [
    "NMF expresses documents as combinations of topics/themes, and expresses images as combinations of patterns\n",
    "\n",
    "Must specify no. of components for NMF\n",
    "\n",
    "(for documents) NMF components represent topics, NMF features combine topics into documents\n",
    "\n",
    "(for images) NMF components are parts of images\n",
    "\n",
    "NMF works with NumPy arrays and `csr_matrix`\n",
    "\n",
    "e.g. word frequency array (rows: documents, columns: words - can measure presence of words in each document using tf-idf (tf: frequency of word in document, idf: reduces influence of frequent words))"
   ]
  },
  {
   "cell_type": "markdown",
   "id": "5c9b725a-e25b-4bf4-8aec-9608ca0a61e1",
   "metadata": {},
   "source": [
    "Here, we will apply NMF to a tf-idf word-frequency array of Wikipedia articles (rows: article titles, columns: words)"
   ]
  },
  {
   "cell_type": "code",
   "execution_count": 1,
   "id": "fd47b96b-a665-437e-b3b1-8c12ed714859",
   "metadata": {},
   "outputs": [],
   "source": [
    "from sklearn.decomposition import NMF\n",
    "import pandas as pd\n",
    "from scipy.sparse import csr_matrix"
   ]
  },
  {
   "cell_type": "markdown",
   "id": "1eea223f-2ea2-48cd-9f19-1fafb302ffea",
   "metadata": {},
   "source": [
    "To preprocess `wikipedia-vectors.csv` into the format in which you used it in the exercises, you have to take its transpose:\n",
    "\n",
    "```python\n",
    "import pandas as pd\n",
    "from scipy.sparse import csr_matrix\n",
    "\n",
    "df = pd.read_csv('wikipedia-vectors.csv', index_col=0)\n",
    "articles = csr_matrix(df.transpose())\n",
    "titles = list(df.columns)\n",
    "```\n",
    "\n",
    "The reason for taking this transpose is that without it, there would be 13,000 columns (corresponding to the 13,000 words in the file), which is a lot of columns for a CSV to have."
   ]
  },
  {
   "cell_type": "code",
   "execution_count": 2,
   "id": "6eb8a6cd-9f9c-49b8-b797-f1194e4335a8",
   "metadata": {},
   "outputs": [],
   "source": [
    "df = pd.read_csv('./datasets/wikipedia-vectors.csv', index_col=0)\n",
    "articles = csr_matrix(df.transpose())\n",
    "titles = list(df.columns)"
   ]
  },
  {
   "cell_type": "code",
   "execution_count": 3,
   "id": "e6225d9b-91ed-42b3-88b3-f27ec88b326b",
   "metadata": {},
   "outputs": [
    {
     "data": {
      "text/plain": [
       "<60x13125 sparse matrix of type '<class 'numpy.float64'>'\n",
       "\twith 42091 stored elements in Compressed Sparse Row format>"
      ]
     },
     "execution_count": 3,
     "metadata": {},
     "output_type": "execute_result"
    }
   ],
   "source": [
    "articles"
   ]
  },
  {
   "cell_type": "code",
   "execution_count": 4,
   "id": "6608f50a-2961-46b1-ba4d-895d892e17c0",
   "metadata": {},
   "outputs": [
    {
     "data": {
      "text/html": [
       "<style>#sk-container-id-1 {color: black;background-color: white;}#sk-container-id-1 pre{padding: 0;}#sk-container-id-1 div.sk-toggleable {background-color: white;}#sk-container-id-1 label.sk-toggleable__label {cursor: pointer;display: block;width: 100%;margin-bottom: 0;padding: 0.3em;box-sizing: border-box;text-align: center;}#sk-container-id-1 label.sk-toggleable__label-arrow:before {content: \"▸\";float: left;margin-right: 0.25em;color: #696969;}#sk-container-id-1 label.sk-toggleable__label-arrow:hover:before {color: black;}#sk-container-id-1 div.sk-estimator:hover label.sk-toggleable__label-arrow:before {color: black;}#sk-container-id-1 div.sk-toggleable__content {max-height: 0;max-width: 0;overflow: hidden;text-align: left;background-color: #f0f8ff;}#sk-container-id-1 div.sk-toggleable__content pre {margin: 0.2em;color: black;border-radius: 0.25em;background-color: #f0f8ff;}#sk-container-id-1 input.sk-toggleable__control:checked~div.sk-toggleable__content {max-height: 200px;max-width: 100%;overflow: auto;}#sk-container-id-1 input.sk-toggleable__control:checked~label.sk-toggleable__label-arrow:before {content: \"▾\";}#sk-container-id-1 div.sk-estimator input.sk-toggleable__control:checked~label.sk-toggleable__label {background-color: #d4ebff;}#sk-container-id-1 div.sk-label input.sk-toggleable__control:checked~label.sk-toggleable__label {background-color: #d4ebff;}#sk-container-id-1 input.sk-hidden--visually {border: 0;clip: rect(1px 1px 1px 1px);clip: rect(1px, 1px, 1px, 1px);height: 1px;margin: -1px;overflow: hidden;padding: 0;position: absolute;width: 1px;}#sk-container-id-1 div.sk-estimator {font-family: monospace;background-color: #f0f8ff;border: 1px dotted black;border-radius: 0.25em;box-sizing: border-box;margin-bottom: 0.5em;}#sk-container-id-1 div.sk-estimator:hover {background-color: #d4ebff;}#sk-container-id-1 div.sk-parallel-item::after {content: \"\";width: 100%;border-bottom: 1px solid gray;flex-grow: 1;}#sk-container-id-1 div.sk-label:hover label.sk-toggleable__label {background-color: #d4ebff;}#sk-container-id-1 div.sk-serial::before {content: \"\";position: absolute;border-left: 1px solid gray;box-sizing: border-box;top: 0;bottom: 0;left: 50%;z-index: 0;}#sk-container-id-1 div.sk-serial {display: flex;flex-direction: column;align-items: center;background-color: white;padding-right: 0.2em;padding-left: 0.2em;position: relative;}#sk-container-id-1 div.sk-item {position: relative;z-index: 1;}#sk-container-id-1 div.sk-parallel {display: flex;align-items: stretch;justify-content: center;background-color: white;position: relative;}#sk-container-id-1 div.sk-item::before, #sk-container-id-1 div.sk-parallel-item::before {content: \"\";position: absolute;border-left: 1px solid gray;box-sizing: border-box;top: 0;bottom: 0;left: 50%;z-index: -1;}#sk-container-id-1 div.sk-parallel-item {display: flex;flex-direction: column;z-index: 1;position: relative;background-color: white;}#sk-container-id-1 div.sk-parallel-item:first-child::after {align-self: flex-end;width: 50%;}#sk-container-id-1 div.sk-parallel-item:last-child::after {align-self: flex-start;width: 50%;}#sk-container-id-1 div.sk-parallel-item:only-child::after {width: 0;}#sk-container-id-1 div.sk-dashed-wrapped {border: 1px dashed gray;margin: 0 0.4em 0.5em 0.4em;box-sizing: border-box;padding-bottom: 0.4em;background-color: white;}#sk-container-id-1 div.sk-label label {font-family: monospace;font-weight: bold;display: inline-block;line-height: 1.2em;}#sk-container-id-1 div.sk-label-container {text-align: center;}#sk-container-id-1 div.sk-container {/* jupyter's `normalize.less` sets `[hidden] { display: none; }` but bootstrap.min.css set `[hidden] { display: none !important; }` so we also need the `!important` here to be able to override the default hidden behavior on the sphinx rendered scikit-learn.org. See: https://github.com/scikit-learn/scikit-learn/issues/21755 */display: inline-block !important;position: relative;}#sk-container-id-1 div.sk-text-repr-fallback {display: none;}</style><div id=\"sk-container-id-1\" class=\"sk-top-container\"><div class=\"sk-text-repr-fallback\"><pre>NMF(n_components=6)</pre><b>In a Jupyter environment, please rerun this cell to show the HTML representation or trust the notebook. <br />On GitHub, the HTML representation is unable to render, please try loading this page with nbviewer.org.</b></div><div class=\"sk-container\" hidden><div class=\"sk-item\"><div class=\"sk-estimator sk-toggleable\"><input class=\"sk-toggleable__control sk-hidden--visually\" id=\"sk-estimator-id-1\" type=\"checkbox\" checked><label for=\"sk-estimator-id-1\" class=\"sk-toggleable__label sk-toggleable__label-arrow\">NMF</label><div class=\"sk-toggleable__content\"><pre>NMF(n_components=6)</pre></div></div></div></div></div>"
      ],
      "text/plain": [
       "NMF(n_components=6)"
      ]
     },
     "execution_count": 4,
     "metadata": {},
     "output_type": "execute_result"
    }
   ],
   "source": [
    "# Dimension of components = dimension of samples, entries non-negative\n",
    "# NMF components are topics\n",
    "model = NMF(n_components=6)\n",
    "model.fit(articles)"
   ]
  },
  {
   "cell_type": "code",
   "execution_count": 5,
   "id": "4a35c571-9eeb-41ce-af97-d662676cceac",
   "metadata": {},
   "outputs": [
    {
     "data": {
      "text/plain": [
       "array([[0.  , 0.  , 0.  , 0.  , 0.  , 0.44],\n",
       "       [0.  , 0.  , 0.  , 0.  , 0.  , 0.56],\n",
       "       [0.  , 0.  , 0.  , 0.  , 0.  , 0.4 ],\n",
       "       [0.  , 0.  , 0.  , 0.  , 0.  , 0.38],\n",
       "       [0.  , 0.  , 0.  , 0.  , 0.  , 0.48],\n",
       "       [0.01, 0.01, 0.01, 0.03, 0.  , 0.33],\n",
       "       [0.  , 0.  , 0.02, 0.  , 0.01, 0.36],\n",
       "       [0.  , 0.  , 0.  , 0.  , 0.  , 0.49],\n",
       "       [0.02, 0.01, 0.  , 0.02, 0.03, 0.48],\n",
       "       [0.01, 0.03, 0.03, 0.07, 0.02, 0.34],\n",
       "       [0.  , 0.  , 0.53, 0.  , 0.03, 0.  ],\n",
       "       [0.  , 0.  , 0.35, 0.  , 0.  , 0.  ],\n",
       "       [0.01, 0.01, 0.31, 0.06, 0.01, 0.02],\n",
       "       [0.  , 0.01, 0.34, 0.01, 0.  , 0.  ],\n",
       "       [0.  , 0.  , 0.43, 0.  , 0.04, 0.  ],\n",
       "       [0.  , 0.  , 0.48, 0.  , 0.  , 0.  ],\n",
       "       [0.01, 0.02, 0.37, 0.03, 0.  , 0.01],\n",
       "       [0.  , 0.  , 0.48, 0.  , 0.  , 0.  ],\n",
       "       [0.  , 0.01, 0.55, 0.  , 0.  , 0.  ],\n",
       "       [0.  , 0.  , 0.46, 0.  , 0.  , 0.  ],\n",
       "       [0.  , 0.01, 0.02, 0.51, 0.06, 0.01],\n",
       "       [0.  , 0.  , 0.  , 0.51, 0.  , 0.  ],\n",
       "       [0.  , 0.01, 0.  , 0.42, 0.  , 0.  ],\n",
       "       [0.  , 0.  , 0.  , 0.43, 0.  , 0.  ],\n",
       "       [0.  , 0.  , 0.  , 0.49, 0.  , 0.  ],\n",
       "       [0.1 , 0.09, 0.  , 0.38, 0.  , 0.01],\n",
       "       [0.  , 0.  , 0.  , 0.57, 0.  , 0.01],\n",
       "       [0.01, 0.01, 0.  , 0.47, 0.  , 0.01],\n",
       "       [0.  , 0.  , 0.  , 0.57, 0.  , 0.  ],\n",
       "       [0.  , 0.  , 0.  , 0.52, 0.01, 0.01],\n",
       "       [0.  , 0.41, 0.  , 0.  , 0.  , 0.  ],\n",
       "       [0.  , 0.6 , 0.  , 0.01, 0.  , 0.  ],\n",
       "       [0.01, 0.26, 0.  , 0.02, 0.01, 0.  ],\n",
       "       [0.  , 0.64, 0.  , 0.  , 0.  , 0.  ],\n",
       "       [0.  , 0.61, 0.  , 0.  , 0.  , 0.  ],\n",
       "       [0.  , 0.34, 0.  , 0.  , 0.  , 0.  ],\n",
       "       [0.01, 0.31, 0.02, 0.  , 0.01, 0.  ],\n",
       "       [0.01, 0.21, 0.01, 0.05, 0.02, 0.01],\n",
       "       [0.01, 0.46, 0.  , 0.02, 0.  , 0.  ],\n",
       "       [0.  , 0.64, 0.  , 0.  , 0.  , 0.  ],\n",
       "       [0.  , 0.  , 0.  , 0.  , 0.47, 0.  ],\n",
       "       [0.  , 0.  , 0.  , 0.  , 0.49, 0.  ],\n",
       "       [0.  , 0.  , 0.  , 0.  , 0.38, 0.01],\n",
       "       [0.  , 0.  , 0.  , 0.01, 0.54, 0.  ],\n",
       "       [0.  , 0.  , 0.01, 0.  , 0.42, 0.  ],\n",
       "       [0.  , 0.  , 0.  , 0.  , 0.51, 0.  ],\n",
       "       [0.  , 0.  , 0.  , 0.  , 0.37, 0.  ],\n",
       "       [0.  , 0.  , 0.04, 0.  , 0.23, 0.  ],\n",
       "       [0.01, 0.  , 0.02, 0.01, 0.32, 0.04],\n",
       "       [0.  , 0.  , 0.  , 0.  , 0.42, 0.  ],\n",
       "       [0.3 , 0.  , 0.  , 0.  , 0.  , 0.  ],\n",
       "       [0.36, 0.  , 0.  , 0.  , 0.  , 0.  ],\n",
       "       [0.39, 0.03, 0.  , 0.02, 0.  , 0.02],\n",
       "       [0.37, 0.  , 0.  , 0.04, 0.  , 0.01],\n",
       "       [0.43, 0.  , 0.  , 0.  , 0.  , 0.  ],\n",
       "       [0.45, 0.  , 0.  , 0.  , 0.  , 0.  ],\n",
       "       [0.27, 0.  , 0.  , 0.05, 0.  , 0.02],\n",
       "       [0.44, 0.  , 0.  , 0.  , 0.01, 0.  ],\n",
       "       [0.29, 0.01, 0.01, 0.01, 0.19, 0.01],\n",
       "       [0.37, 0.01, 0.  , 0.1 , 0.01, 0.  ]])"
      ]
     },
     "execution_count": 5,
     "metadata": {},
     "output_type": "execute_result"
    }
   ],
   "source": [
    "# NMF feature values are non-negative and can be used to reconstruct the samples\n",
    "nmf_features = model.transform(articles)\n",
    "nmf_features.round(2)"
   ]
  },
  {
   "cell_type": "code",
   "execution_count": 6,
   "id": "30a7a2a4-af2c-4a1d-93b6-daa64db50324",
   "metadata": {},
   "outputs": [],
   "source": [
    "df = pd.DataFrame(nmf_features, index=titles)"
   ]
  },
  {
   "cell_type": "code",
   "execution_count": 7,
   "id": "fcfec07a-b1dd-4bef-b45f-245b4eb68621",
   "metadata": {},
   "outputs": [
    {
     "data": {
      "text/plain": [
       "0    0.003815\n",
       "1    0.000000\n",
       "2    0.000000\n",
       "3    0.571859\n",
       "4    0.000000\n",
       "5    0.000000\n",
       "Name: Anne Hathaway, dtype: float64"
      ]
     },
     "execution_count": 7,
     "metadata": {},
     "output_type": "execute_result"
    }
   ],
   "source": [
    "df.loc['Anne Hathaway']"
   ]
  },
  {
   "cell_type": "code",
   "execution_count": 8,
   "id": "df991c99-b6f1-49a7-8ef6-83c5076dad7e",
   "metadata": {},
   "outputs": [
    {
     "data": {
      "text/plain": [
       "0    0.000000\n",
       "1    0.005575\n",
       "2    0.000000\n",
       "3    0.419558\n",
       "4    0.000000\n",
       "5    0.000000\n",
       "Name: Denzel Washington, dtype: float64"
      ]
     },
     "execution_count": 8,
     "metadata": {},
     "output_type": "execute_result"
    }
   ],
   "source": [
    "df.loc['Denzel Washington']"
   ]
  },
  {
   "cell_type": "markdown",
   "id": "0d977642-3a5e-44b9-b25a-698f4230930c",
   "metadata": {},
   "source": [
    "Here we see NMF feature 3 has by far the highest value (this means both articles are reconstructed using mainly the 3rd NMF component).\n",
    "\n",
    "Components represent topics (e.g. acting).\n",
    "\n",
    "NMF reconstructs samples from its components using the NMF feature values:\n",
    "\n",
    "- Multiply components by feature values and add up\n",
    "- Can be expressed as a product of matrices (matrix factorisation)\n",
    "\n",
    "NMF components: $[[1, 0.5, 0], [0.2, 0.1, 2.1]]$\n",
    "\n",
    "NMF feature values: $[2, 1]$\n",
    "\n",
    "Reconstruction of original sample: $[2*1 + 1*0.2, 2*0.5 + 1*0.1, 2*0 + 1*2.1] = [2.2, 1.1, 2.1]$"
   ]
  },
  {
   "cell_type": "markdown",
   "id": "e6c3f276-8615-48da-bf76-02434aab75b3",
   "metadata": {},
   "source": [
    "When NMF is applied to documents, the components correspond to topics of documents, and the NMF features reconstruct the documents from the topics."
   ]
  },
  {
   "cell_type": "code",
   "execution_count": 9,
   "id": "3371cc5b-10b6-43f2-9946-c37a8e2732d8",
   "metadata": {},
   "outputs": [],
   "source": [
    "words = pd.read_csv('./datasets/words.csv', index_col=0)"
   ]
  },
  {
   "cell_type": "code",
   "execution_count": 10,
   "id": "7bd880e9-5bcb-47b9-91e3-451868aa06ce",
   "metadata": {},
   "outputs": [
    {
     "data": {
      "text/html": [
       "<div>\n",
       "<style scoped>\n",
       "    .dataframe tbody tr th:only-of-type {\n",
       "        vertical-align: middle;\n",
       "    }\n",
       "\n",
       "    .dataframe tbody tr th {\n",
       "        vertical-align: top;\n",
       "    }\n",
       "\n",
       "    .dataframe thead th {\n",
       "        text-align: right;\n",
       "    }\n",
       "</style>\n",
       "<table border=\"1\" class=\"dataframe\">\n",
       "  <thead>\n",
       "    <tr style=\"text-align: right;\">\n",
       "      <th></th>\n",
       "      <th>0</th>\n",
       "    </tr>\n",
       "  </thead>\n",
       "  <tbody>\n",
       "    <tr>\n",
       "      <th>1</th>\n",
       "      <td>aaron</td>\n",
       "    </tr>\n",
       "    <tr>\n",
       "      <th>2</th>\n",
       "      <td>abandon</td>\n",
       "    </tr>\n",
       "    <tr>\n",
       "      <th>3</th>\n",
       "      <td>abandoned</td>\n",
       "    </tr>\n",
       "    <tr>\n",
       "      <th>4</th>\n",
       "      <td>abandoning</td>\n",
       "    </tr>\n",
       "    <tr>\n",
       "      <th>5</th>\n",
       "      <td>abandonment</td>\n",
       "    </tr>\n",
       "    <tr>\n",
       "      <th>...</th>\n",
       "      <td>...</td>\n",
       "    </tr>\n",
       "    <tr>\n",
       "      <th>13121</th>\n",
       "      <td>zimbabwe</td>\n",
       "    </tr>\n",
       "    <tr>\n",
       "      <th>13122</th>\n",
       "      <td>zinc</td>\n",
       "    </tr>\n",
       "    <tr>\n",
       "      <th>13123</th>\n",
       "      <td>zone</td>\n",
       "    </tr>\n",
       "    <tr>\n",
       "      <th>13124</th>\n",
       "      <td>zones</td>\n",
       "    </tr>\n",
       "    <tr>\n",
       "      <th>13125</th>\n",
       "      <td>zoo</td>\n",
       "    </tr>\n",
       "  </tbody>\n",
       "</table>\n",
       "<p>13125 rows × 1 columns</p>\n",
       "</div>"
      ],
      "text/plain": [
       "                 0\n",
       "1            aaron\n",
       "2          abandon\n",
       "3        abandoned\n",
       "4       abandoning\n",
       "5      abandonment\n",
       "...            ...\n",
       "13121     zimbabwe\n",
       "13122         zinc\n",
       "13123         zone\n",
       "13124        zones\n",
       "13125          zoo\n",
       "\n",
       "[13125 rows x 1 columns]"
      ]
     },
     "execution_count": 10,
     "metadata": {},
     "output_type": "execute_result"
    }
   ],
   "source": [
    "words"
   ]
  },
  {
   "cell_type": "code",
   "execution_count": 11,
   "id": "294b52bf-b310-4a26-8e86-aa00f3638eb1",
   "metadata": {},
   "outputs": [],
   "source": [
    "components_df = pd.DataFrame(model.components_, columns=words)"
   ]
  },
  {
   "cell_type": "code",
   "execution_count": 12,
   "id": "08ee22b4-e10c-4c11-b808-e60b535d51c3",
   "metadata": {},
   "outputs": [
    {
     "data": {
      "text/plain": [
       "(6, 13125)"
      ]
     },
     "execution_count": 12,
     "metadata": {},
     "output_type": "execute_result"
    }
   ],
   "source": [
    "components_df.shape"
   ]
  },
  {
   "cell_type": "code",
   "execution_count": 13,
   "id": "86c12f23-7500-441a-aaa2-edcb63f26cf1",
   "metadata": {},
   "outputs": [],
   "source": [
    "component = components_df.iloc[3, :]"
   ]
  },
  {
   "cell_type": "code",
   "execution_count": 14,
   "id": "71eed37e-3af3-4afe-9397-d7b30545f64e",
   "metadata": {},
   "outputs": [
    {
     "data": {
      "text/plain": [
       "(film,)       0.632113\n",
       "(award,)      0.254837\n",
       "(starred,)    0.246939\n",
       "(role,)       0.212878\n",
       "(actress,)    0.187655\n",
       "Name: 3, dtype: float64"
      ]
     },
     "execution_count": 14,
     "metadata": {},
     "output_type": "execute_result"
    }
   ],
   "source": [
    "component.nlargest()"
   ]
  },
  {
   "cell_type": "markdown",
   "id": "d88d109c-0f13-4ef0-bef5-9f7a46eaa4b4",
   "metadata": {},
   "source": [
    "Here we see NMF feature 3 gives us the topics film, award, starred, role and actress, which align with what we found previously with Anne Hathaway and Denzel Washington (as they both had an NMF feature 3 value being very large)."
   ]
  },
  {
   "cell_type": "markdown",
   "id": "888ec223-5f65-4277-b02a-3d609f305901",
   "metadata": {},
   "source": [
    "Next, we will use NMF to decompose grayscale images into their commonly occurring patterns."
   ]
  },
  {
   "cell_type": "code",
   "execution_count": 15,
   "id": "a0e6d213-6ae8-4a6c-99dc-c80422913a89",
   "metadata": {},
   "outputs": [],
   "source": [
    "samples = pd.read_csv('./datasets/lcd-digits.csv', header=None).values"
   ]
  },
  {
   "cell_type": "code",
   "execution_count": 16,
   "id": "0eee97a2-3f7f-451c-97f0-16e6f79e3c7f",
   "metadata": {},
   "outputs": [
    {
     "data": {
      "text/plain": [
       "array([[0., 0., 0., ..., 0., 0., 0.],\n",
       "       [0., 0., 0., ..., 0., 0., 0.],\n",
       "       [0., 0., 0., ..., 0., 0., 0.],\n",
       "       ...,\n",
       "       [0., 0., 0., ..., 0., 0., 0.],\n",
       "       [0., 0., 0., ..., 0., 0., 0.],\n",
       "       [0., 0., 0., ..., 0., 0., 0.]])"
      ]
     },
     "execution_count": 16,
     "metadata": {},
     "output_type": "execute_result"
    }
   ],
   "source": [
    "samples"
   ]
  },
  {
   "cell_type": "code",
   "execution_count": 17,
   "id": "f0a93796-c7f5-4a3d-9c18-839074a1e6cb",
   "metadata": {},
   "outputs": [],
   "source": [
    "from matplotlib import pyplot as plt"
   ]
  },
  {
   "cell_type": "code",
   "execution_count": 18,
   "id": "7e8173d4-421c-4ce6-bcae-f01d3c8f9017",
   "metadata": {},
   "outputs": [
    {
     "data": {
      "text/plain": [
       "array([0., 0., 0., 0., 0., 0., 0., 0., 0., 0., 1., 1., 1., 1., 0., 0., 0.,\n",
       "       0., 0., 0., 0., 0., 1., 0., 0., 0., 0., 0., 0., 0., 1., 0., 0., 0.,\n",
       "       0., 0., 0., 0., 1., 0., 0., 0., 0., 0., 0., 0., 1., 0., 0., 0., 0.,\n",
       "       0., 0., 0., 0., 0., 0., 0., 0., 0., 0., 0., 1., 0., 0., 0., 0., 0.,\n",
       "       0., 0., 1., 0., 0., 0., 0., 0., 0., 0., 1., 0., 0., 0., 0., 0., 0.,\n",
       "       0., 1., 0., 0., 0., 0., 0., 0., 0., 0., 0., 0., 0., 0., 0., 0., 0.,\n",
       "       0., 0.])"
      ]
     },
     "execution_count": 18,
     "metadata": {},
     "output_type": "execute_result"
    }
   ],
   "source": [
    "digit = samples[0, :]\n",
    "digit"
   ]
  },
  {
   "cell_type": "markdown",
   "id": "3f5a92e2-f411-4bca-bff3-572460480940",
   "metadata": {},
   "source": [
    "Here, each row is a single 13x8 image."
   ]
  },
  {
   "cell_type": "code",
   "execution_count": 19,
   "id": "f368744a-0296-41a2-9f4b-c9e3a9c24e53",
   "metadata": {},
   "outputs": [
    {
     "data": {
      "text/plain": [
       "array([[0., 0., 0., 0., 0., 0., 0., 0.],\n",
       "       [0., 0., 1., 1., 1., 1., 0., 0.],\n",
       "       [0., 0., 0., 0., 0., 0., 1., 0.],\n",
       "       [0., 0., 0., 0., 0., 0., 1., 0.],\n",
       "       [0., 0., 0., 0., 0., 0., 1., 0.],\n",
       "       [0., 0., 0., 0., 0., 0., 1., 0.],\n",
       "       [0., 0., 0., 0., 0., 0., 0., 0.],\n",
       "       [0., 0., 0., 0., 0., 0., 1., 0.],\n",
       "       [0., 0., 0., 0., 0., 0., 1., 0.],\n",
       "       [0., 0., 0., 0., 0., 0., 1., 0.],\n",
       "       [0., 0., 0., 0., 0., 0., 1., 0.],\n",
       "       [0., 0., 0., 0., 0., 0., 0., 0.],\n",
       "       [0., 0., 0., 0., 0., 0., 0., 0.]])"
      ]
     },
     "execution_count": 19,
     "metadata": {},
     "output_type": "execute_result"
    }
   ],
   "source": [
    "# Reshape digit to a 13x8 array\n",
    "bitmap = digit.reshape(13, 8)\n",
    "bitmap"
   ]
  },
  {
   "cell_type": "code",
   "execution_count": 20,
   "id": "c686c60e-19af-4ed3-9ec7-a71096602516",
   "metadata": {},
   "outputs": [
    {
     "data": {
      "image/png": "[encoded data removed]",
      "text/plain": [
       "<Figure size 640x480 with 2 Axes>"
      ]
     },
     "metadata": {},
     "output_type": "display_data"
    }
   ],
   "source": [
    "plt.imshow(bitmap, cmap='gray', interpolation='nearest')\n",
    "plt.colorbar()\n",
    "plt.show()"
   ]
  },
  {
   "cell_type": "markdown",
   "id": "68bbfdaf-0716-4ac1-81b5-74b873faca67",
   "metadata": {},
   "source": [
    "Next, we will see how NMF can learn parts of images."
   ]
  },
  {
   "cell_type": "code",
   "execution_count": 21,
   "id": "97236605-6931-4c0a-a788-0aa311759fea",
   "metadata": {},
   "outputs": [],
   "source": [
    "def show_as_image(sample):\n",
    "    bitmap = sample.reshape((13, 8))\n",
    "    plt.figure()\n",
    "    plt.imshow(bitmap, cmap='gray', interpolation='nearest')\n",
    "    plt.colorbar()\n",
    "    plt.show()"
   ]
  },
  {
   "cell_type": "code",
   "execution_count": 22,
   "id": "9033aa99-7a66-4dc9-90bd-35c9da9cef2e",
   "metadata": {},
   "outputs": [],
   "source": [
    "model = NMF(n_components=7) # 7 is the no. of cells in an LED display"
   ]
  },
  {
   "cell_type": "code",
   "execution_count": 23,
   "id": "a239f60c-54b7-497c-af63-607875b4606f",
   "metadata": {},
   "outputs": [],
   "source": [
    "features = model.fit_transform(samples)"
   ]
  },
  {
   "cell_type": "code",
   "execution_count": 24,
   "id": "b8d61b5e-441c-42a5-9467-a617b175c9f3",
   "metadata": {},
   "outputs": [
    {
     "data": {
      "image/png": "[encoded data removed]",
      "text/plain": [
       "<Figure size 640x480 with 2 Axes>"
      ]
     },
     "metadata": {},
     "output_type": "display_data"
    },
    {
     "data": {
      "image/png": "[encoded data removed]",
      "text/plain": [
       "<Figure size 640x480 with 2 Axes>"
      ]
     },
     "metadata": {},
     "output_type": "display_data"
    },
    {
     "data": {
      "image/png": "[encoded data removed]",
      "text/plain": [
       "<Figure size 640x480 with 2 Axes>"
      ]
     },
     "metadata": {},
     "output_type": "display_data"
    },
    {
     "data": {
      "image/png": "[encoded data removed]",
      "text/plain": [
       "<Figure size 640x480 with 2 Axes>"
      ]
     },
     "metadata": {},
     "output_type": "display_data"
    },
    {
     "data": {
      "image/png": "[encoded data removed]",
      "text/plain": [
       "<Figure size 640x480 with 2 Axes>"
      ]
     },
     "metadata": {},
     "output_type": "display_data"
    },
    {
     "data": {
      "image/png": "[encoded data removed]",
      "text/plain": [
       "<Figure size 640x480 with 2 Axes>"
      ]
     },
     "metadata": {},
     "output_type": "display_data"
    },
    {
     "data": {
      "image/png": "[encoded data removed]",
      "text/plain": [
       "<Figure size 640x480 with 2 Axes>"
      ]
     },
     "metadata": {},
     "output_type": "display_data"
    }
   ],
   "source": [
    "# Call show_as_image on each component\n",
    "for component in model.components_:\n",
    "    show_as_image(component)"
   ]
  },
  {
   "cell_type": "code",
   "execution_count": 25,
   "id": "f350d250-f68b-43a7-becc-cdcda100bc25",
   "metadata": {},
   "outputs": [
    {
     "data": {
      "text/plain": [
       "array([2.57347960e-01, 0.00000000e+00, 0.00000000e+00, 3.94333376e-01,\n",
       "       3.64045642e-01, 0.00000000e+00, 3.51282114e-14])"
      ]
     },
     "execution_count": 25,
     "metadata": {},
     "output_type": "execute_result"
    }
   ],
   "source": [
    "digit_features = features[0, :]\n",
    "digit_features"
   ]
  },
  {
   "cell_type": "markdown",
   "id": "f6ba6e19-1741-488e-873a-9dd474d42e57",
   "metadata": {},
   "source": [
    "Here we see NMF has expressed the digit as a sum of the components."
   ]
  },
  {
   "cell_type": "markdown",
   "id": "5dcec195-7976-48da-a55b-07b4bb5374d2",
   "metadata": {},
   "source": [
    "Unlike NMF, PCA doesn't learn the parts of things as its components do not correspond to topics (in the case of documents) or to parts of images. Hence the PCA components will not represent meaningful parts of images of LED digits."
   ]
  },
  {
   "cell_type": "markdown",
   "id": "bdc25895-2a1f-4c92-9b31-43ddf1605822",
   "metadata": {},
   "source": [
    "## Recommender systems using NMF"
   ]
  },
  {
   "cell_type": "markdown",
   "id": "b06278cc-fb00-44ad-8e44-35d72313a61b",
   "metadata": {},
   "source": [
    "We can use NMF features and the cosine similarity to find similar articles.\n",
    "\n",
    "Similar articles should have similar topics.\n",
    "\n",
    "Strategy:\n",
    "\n",
    "- Apply NMF to the word-frequency array\n",
    "- NMF feature values describe the topics (so similar documents have similar NMF feature values)\n",
    "\n",
    "Fifferent versions of the same document have same topic proportions (but exact feature values may be different - e.g. because one version uses many meaningless words, alternate ways of saying the same thing in a strong or weak way).\n",
    "\n",
    "But all versions lie on the same line through the origin.\n",
    "\n",
    "Can use cosine similarity to compute angle between the lines (where higher values means more similar - max is 1 when angle is 0)."
   ]
  },
  {
   "cell_type": "markdown",
   "id": "8205328e-3420-4c06-88a2-232fec50712c",
   "metadata": {},
   "source": [
    "Firstly, we will find similar articles to Cristiano Ronaldo."
   ]
  },
  {
   "cell_type": "code",
   "execution_count": 26,
   "id": "33efadf3-c64e-49fb-b5f1-b1228c8ac48d",
   "metadata": {},
   "outputs": [],
   "source": [
    "from sklearn.preprocessing import normalize"
   ]
  },
  {
   "cell_type": "code",
   "execution_count": 27,
   "id": "08bdf17e-3af2-4d27-a278-6c1863f4d38c",
   "metadata": {},
   "outputs": [],
   "source": [
    "norm_features = normalize(nmf_features)"
   ]
  },
  {
   "cell_type": "code",
   "execution_count": 28,
   "id": "4a530dc2-9c4b-415b-96e0-f187d37ad0c4",
   "metadata": {},
   "outputs": [],
   "source": [
    "df = pd.DataFrame(norm_features, index=titles)"
   ]
  },
  {
   "cell_type": "code",
   "execution_count": 29,
   "id": "78f3e4e4-7090-47ba-96a6-ac65854e4b58",
   "metadata": {},
   "outputs": [
    {
     "data": {
      "text/plain": [
       "(60, 6)"
      ]
     },
     "execution_count": 29,
     "metadata": {},
     "output_type": "execute_result"
    }
   ],
   "source": [
    "df.shape"
   ]
  },
  {
   "cell_type": "code",
   "execution_count": 30,
   "id": "f2d2b10a-1813-416a-8301-e925313657d6",
   "metadata": {},
   "outputs": [
    {
     "data": {
      "text/html": [
       "<div>\n",
       "<style scoped>\n",
       "    .dataframe tbody tr th:only-of-type {\n",
       "        vertical-align: middle;\n",
       "    }\n",
       "\n",
       "    .dataframe tbody tr th {\n",
       "        vertical-align: top;\n",
       "    }\n",
       "\n",
       "    .dataframe thead th {\n",
       "        text-align: right;\n",
       "    }\n",
       "</style>\n",
       "<table border=\"1\" class=\"dataframe\">\n",
       "  <thead>\n",
       "    <tr style=\"text-align: right;\">\n",
       "      <th></th>\n",
       "      <th>0</th>\n",
       "      <th>1</th>\n",
       "      <th>2</th>\n",
       "      <th>3</th>\n",
       "      <th>4</th>\n",
       "      <th>5</th>\n",
       "    </tr>\n",
       "  </thead>\n",
       "  <tbody>\n",
       "    <tr>\n",
       "      <th>HTTP 404</th>\n",
       "      <td>0.000000</td>\n",
       "      <td>0.000000</td>\n",
       "      <td>0.000000</td>\n",
       "      <td>0.000000</td>\n",
       "      <td>0.000000</td>\n",
       "      <td>1.000000</td>\n",
       "    </tr>\n",
       "    <tr>\n",
       "      <th>Alexa Internet</th>\n",
       "      <td>0.000000</td>\n",
       "      <td>0.000000</td>\n",
       "      <td>0.000000</td>\n",
       "      <td>0.000000</td>\n",
       "      <td>0.000000</td>\n",
       "      <td>1.000000</td>\n",
       "    </tr>\n",
       "    <tr>\n",
       "      <th>Internet Explorer</th>\n",
       "      <td>0.009513</td>\n",
       "      <td>0.000000</td>\n",
       "      <td>0.000000</td>\n",
       "      <td>0.000000</td>\n",
       "      <td>0.000000</td>\n",
       "      <td>0.999955</td>\n",
       "    </tr>\n",
       "    <tr>\n",
       "      <th>HTTP cookie</th>\n",
       "      <td>0.000000</td>\n",
       "      <td>0.000000</td>\n",
       "      <td>0.000000</td>\n",
       "      <td>0.000000</td>\n",
       "      <td>0.000000</td>\n",
       "      <td>1.000000</td>\n",
       "    </tr>\n",
       "    <tr>\n",
       "      <th>Google Search</th>\n",
       "      <td>0.000000</td>\n",
       "      <td>0.000000</td>\n",
       "      <td>0.000000</td>\n",
       "      <td>0.000000</td>\n",
       "      <td>0.000000</td>\n",
       "      <td>1.000000</td>\n",
       "    </tr>\n",
       "    <tr>\n",
       "      <th>Tumblr</th>\n",
       "      <td>0.038116</td>\n",
       "      <td>0.040892</td>\n",
       "      <td>0.023033</td>\n",
       "      <td>0.099032</td>\n",
       "      <td>0.000000</td>\n",
       "      <td>0.993246</td>\n",
       "    </tr>\n",
       "    <tr>\n",
       "      <th>Hypertext Transfer Protocol</th>\n",
       "      <td>0.000000</td>\n",
       "      <td>0.000000</td>\n",
       "      <td>0.057426</td>\n",
       "      <td>0.000000</td>\n",
       "      <td>0.016801</td>\n",
       "      <td>0.998208</td>\n",
       "    </tr>\n",
       "    <tr>\n",
       "      <th>Social search</th>\n",
       "      <td>0.000000</td>\n",
       "      <td>0.000000</td>\n",
       "      <td>0.000000</td>\n",
       "      <td>0.000000</td>\n",
       "      <td>0.000000</td>\n",
       "      <td>1.000000</td>\n",
       "    </tr>\n",
       "    <tr>\n",
       "      <th>Firefox</th>\n",
       "      <td>0.031738</td>\n",
       "      <td>0.029555</td>\n",
       "      <td>0.007799</td>\n",
       "      <td>0.049011</td>\n",
       "      <td>0.054406</td>\n",
       "      <td>0.996341</td>\n",
       "    </tr>\n",
       "    <tr>\n",
       "      <th>LinkedIn</th>\n",
       "      <td>0.031875</td>\n",
       "      <td>0.089990</td>\n",
       "      <td>0.088830</td>\n",
       "      <td>0.188219</td>\n",
       "      <td>0.056475</td>\n",
       "      <td>0.971792</td>\n",
       "    </tr>\n",
       "  </tbody>\n",
       "</table>\n",
       "</div>"
      ],
      "text/plain": [
       "                                    0         1         2         3         4  \\\n",
       "HTTP 404                     0.000000  0.000000  0.000000  0.000000  0.000000   \n",
       "Alexa Internet               0.000000  0.000000  0.000000  0.000000  0.000000   \n",
       "Internet Explorer            0.009513  0.000000  0.000000  0.000000  0.000000   \n",
       "HTTP cookie                  0.000000  0.000000  0.000000  0.000000  0.000000   \n",
       "Google Search                0.000000  0.000000  0.000000  0.000000  0.000000   \n",
       "Tumblr                       0.038116  0.040892  0.023033  0.099032  0.000000   \n",
       "Hypertext Transfer Protocol  0.000000  0.000000  0.057426  0.000000  0.016801   \n",
       "Social search                0.000000  0.000000  0.000000  0.000000  0.000000   \n",
       "Firefox                      0.031738  0.029555  0.007799  0.049011  0.054406   \n",
       "LinkedIn                     0.031875  0.089990  0.088830  0.188219  0.056475   \n",
       "\n",
       "                                    5  \n",
       "HTTP 404                     1.000000  \n",
       "Alexa Internet               1.000000  \n",
       "Internet Explorer            0.999955  \n",
       "HTTP cookie                  1.000000  \n",
       "Google Search                1.000000  \n",
       "Tumblr                       0.993246  \n",
       "Hypertext Transfer Protocol  0.998208  \n",
       "Social search                1.000000  \n",
       "Firefox                      0.996341  \n",
       "LinkedIn                     0.971792  "
      ]
     },
     "execution_count": 30,
     "metadata": {},
     "output_type": "execute_result"
    }
   ],
   "source": [
    "df.head(10)"
   ]
  },
  {
   "cell_type": "code",
   "execution_count": 31,
   "id": "2d8b4a02-4d45-4df0-b702-6b41aa42d7fa",
   "metadata": {},
   "outputs": [],
   "source": [
    "# Select the row corresponding to 'Cristiano Ronaldo'\n",
    "article = df.loc['Cristiano Ronaldo']"
   ]
  },
  {
   "cell_type": "code",
   "execution_count": 32,
   "id": "a9ef0ff1-3da9-4a18-805f-5c2de67bfdb7",
   "metadata": {},
   "outputs": [
    {
     "data": {
      "text/plain": [
       "0    0.002507\n",
       "1    0.999942\n",
       "2    0.000859\n",
       "3    0.010259\n",
       "4    0.001949\n",
       "5    0.000722\n",
       "Name: Cristiano Ronaldo, dtype: float64"
      ]
     },
     "execution_count": 32,
     "metadata": {},
     "output_type": "execute_result"
    }
   ],
   "source": [
    "article"
   ]
  },
  {
   "cell_type": "code",
   "execution_count": 33,
   "id": "ac4d394d-d85c-403f-b869-15212ad671f8",
   "metadata": {},
   "outputs": [],
   "source": [
    "# Compute the dot product\n",
    "# Cosine similarity: dot product, as NMF features are already normalized to have same magnitude\n",
    "similarities = df.dot(article)"
   ]
  },
  {
   "cell_type": "code",
   "execution_count": 34,
   "id": "a8160f66-292b-4121-ade2-2c3dd3b4b541",
   "metadata": {},
   "outputs": [
    {
     "data": {
      "text/plain": [
       "Cristiano Ronaldo                1.000000\n",
       "Franck Ribéry                    0.999973\n",
       "Radamel Falcao                   0.999942\n",
       "Zlatan Ibrahimović               0.999942\n",
       "France national football team    0.999923\n",
       "dtype: float64"
      ]
     },
     "execution_count": 34,
     "metadata": {},
     "output_type": "execute_result"
    }
   ],
   "source": [
    "# Display those with the largest cosine similarity\n",
    "similarities.nlargest()"
   ]
  },
  {
   "cell_type": "markdown",
   "id": "bd24619b-d775-4c49-8903-41b5fd264e76",
   "metadata": {},
   "source": [
    "Here we see which articles are similar to Cristiano Ronaldo."
   ]
  },
  {
   "cell_type": "markdown",
   "id": "73761397-2407-4b33-ab28-bd1e03b3799c",
   "metadata": {},
   "source": [
    "Secondly, we will use NMF to recommend popular music artists. Here, the rows correspond to artists, and the columns correspond to users. The entries give the no. of times each artist was listened to by each user."
   ]
  },
  {
   "cell_type": "code",
   "execution_count": 35,
   "id": "2319a953-4bc2-4d9e-b1bc-ae800a0b2fb6",
   "metadata": {},
   "outputs": [],
   "source": [
    "artists = pd.read_csv('./datasets/artists.csv', index_col=0).values"
   ]
  },
  {
   "cell_type": "code",
   "execution_count": 36,
   "id": "df805742-9668-4bf7-9c9a-5eb44eceec99",
   "metadata": {},
   "outputs": [
    {
     "data": {
      "text/plain": [
       "array([[  0,   0, 105, ...,   0,   0,   0],\n",
       "       [128, 211,   0, ...,   0,   0,   0],\n",
       "       [  0,   0,   0, ...,   0,   0,   0],\n",
       "       ...,\n",
       "       [  0,   0,   0, ...,   0,   0,   0],\n",
       "       [  0,   0,   0, ...,   0,  55,   0],\n",
       "       [  0,   0,   0, ...,   0,   0,   0]])"
      ]
     },
     "execution_count": 36,
     "metadata": {},
     "output_type": "execute_result"
    }
   ],
   "source": [
    "artists"
   ]
  },
  {
   "cell_type": "code",
   "execution_count": 37,
   "id": "f71cdd9c-0513-4513-bdab-b038b91ff552",
   "metadata": {},
   "outputs": [],
   "source": [
    "from sklearn.preprocessing import Normalizer, MaxAbsScaler\n",
    "from sklearn.pipeline import make_pipeline"
   ]
  },
  {
   "cell_type": "code",
   "execution_count": 38,
   "id": "d32fb268-c0de-460d-9865-d8d8b742b05a",
   "metadata": {},
   "outputs": [],
   "source": [
    "# Scaling here transforms the data so all users have the same influence on the model\n",
    "# regardless of how many different artists they've listened to\n",
    "scaler = MaxAbsScaler()"
   ]
  },
  {
   "cell_type": "code",
   "execution_count": 39,
   "id": "9a62be38-50b2-44e1-9433-af8d97a5441f",
   "metadata": {},
   "outputs": [],
   "source": [
    "nmf = NMF(n_components=20)"
   ]
  },
  {
   "cell_type": "code",
   "execution_count": 40,
   "id": "b5013d0c-91e7-4dea-9f4e-ba970544542b",
   "metadata": {},
   "outputs": [],
   "source": [
    "normalizer = Normalizer()"
   ]
  },
  {
   "cell_type": "code",
   "execution_count": 41,
   "id": "d2f387e9-50be-4a6b-b589-51692d9c9e1c",
   "metadata": {},
   "outputs": [],
   "source": [
    "pipeline = make_pipeline(scaler, nmf, normalizer)"
   ]
  },
  {
   "cell_type": "code",
   "execution_count": 42,
   "id": "db23a979-01c6-421a-8b08-e018ddfd9ae2",
   "metadata": {},
   "outputs": [],
   "source": [
    "norm_features = pipeline.fit_transform(artists)"
   ]
  },
  {
   "cell_type": "code",
   "execution_count": 43,
   "id": "d1cb6405-46f0-4558-b48e-28bdef2cfd92",
   "metadata": {},
   "outputs": [],
   "source": [
    "artist_names = pd.read_csv('./datasets/artist_names.csv', index_col=0).values.flatten()"
   ]
  },
  {
   "cell_type": "code",
   "execution_count": 44,
   "id": "d4cd8f88-5844-42dc-bc84-35fed55c2b35",
   "metadata": {},
   "outputs": [
    {
     "data": {
      "text/plain": [
       "array(['Massive Attack', 'Sublime', 'Beastie Boys', 'Neil Young',\n",
       "       'Dead Kennedys', 'Orbital', 'Miles Davis', 'Leonard Cohen',\n",
       "       'Van Morrison', 'NOFX', 'Rancid', 'Lamb', 'Korn',\n",
       "       'Dropkick Murphys', 'Bob Dylan', 'Eminem', 'Nirvana', 'Van Halen',\n",
       "       'Damien Rice', 'Elvis Costello', 'Everclear', 'Jimi Hendrix',\n",
       "       'PJ Harvey', 'Red Hot Chili Peppers', 'Ryan Adams', 'Soundgarden',\n",
       "       'The White Stripes', 'Madonna', 'Eric Clapton', 'Bob Marley',\n",
       "       'Dr. Dre', 'The Flaming Lips', 'Tom Waits', 'Moby', 'Cypress Hill',\n",
       "       'Garbage', 'Fear Factory', '50 Cent', 'Ani DiFranco',\n",
       "       'Matchbox Twenty', 'The Police', 'Eagles', 'Phish',\n",
       "       'Stone Temple Pilots', 'Black Sabbath', 'Britney Spears',\n",
       "       'Fatboy Slim', 'System of a Down', 'Simon & Garfunkel',\n",
       "       'Snoop Dogg', 'Aimee Mann', 'Less Than Jake', 'Rammstein',\n",
       "       'Reel Big Fish', 'The Prodigy', 'Pantera', 'Foo Fighters',\n",
       "       'The Beatles', 'Incubus', 'Audioslave', 'Bright Eyes',\n",
       "       'Machine Head', 'AC/DC', 'Dire Straits', 'MotÃ¶rhead', 'Ramones',\n",
       "       'Slipknot', 'Me First and the Gimme Gimmes', 'Bruce Springsteen',\n",
       "       'Queens of the Stone Age', 'The Chemical Brothers', 'Bon Jovi',\n",
       "       'Goo Goo Dolls', 'Alice in Chains', 'Howard Shore',\n",
       "       'Barenaked Ladies', 'Anti-Flag', 'Nick Cave and the Bad Seeds',\n",
       "       'Static-X', 'Misfits', '2Pac', 'Sparta', 'Interpol',\n",
       "       'The Crystal Method', 'The Beach Boys', 'Goldfrapp',\n",
       "       'Bob Marley & the Wailers', 'Kylie Minogue', 'The Blood Brothers',\n",
       "       'Mirah', 'Ludacris', 'Snow Patrol', 'The Mars Volta',\n",
       "       'Yeah Yeah Yeahs', 'Iced Earth', 'Fiona Apple', 'Rilo Kiley',\n",
       "       'Rufus Wainwright', 'Flogging Molly', 'Hot Hot Heat', 'Dredg',\n",
       "       'Switchfoot', 'Tegan and Sara', 'Rage Against the Machine',\n",
       "       'Keane', 'Jet', 'Franz Ferdinand', 'The Postal Service',\n",
       "       'The Dresden Dolls', 'The Killers', 'Death From Above 1979'],\n",
       "      dtype=object)"
      ]
     },
     "execution_count": 44,
     "metadata": {},
     "output_type": "execute_result"
    }
   ],
   "source": [
    "artist_names"
   ]
  },
  {
   "cell_type": "code",
   "execution_count": 45,
   "id": "46081ec2-c85e-4109-a976-cd4ce4d0b1b0",
   "metadata": {},
   "outputs": [],
   "source": [
    "df = pd.DataFrame(norm_features, index=artist_names)"
   ]
  },
  {
   "cell_type": "code",
   "execution_count": 46,
   "id": "8c17f691-d15f-4d7e-840e-5bb374f61802",
   "metadata": {},
   "outputs": [
    {
     "data": {
      "text/html": [
       "<div>\n",
       "<style scoped>\n",
       "    .dataframe tbody tr th:only-of-type {\n",
       "        vertical-align: middle;\n",
       "    }\n",
       "\n",
       "    .dataframe tbody tr th {\n",
       "        vertical-align: top;\n",
       "    }\n",
       "\n",
       "    .dataframe thead th {\n",
       "        text-align: right;\n",
       "    }\n",
       "</style>\n",
       "<table border=\"1\" class=\"dataframe\">\n",
       "  <thead>\n",
       "    <tr style=\"text-align: right;\">\n",
       "      <th></th>\n",
       "      <th>0</th>\n",
       "      <th>1</th>\n",
       "      <th>2</th>\n",
       "      <th>3</th>\n",
       "      <th>4</th>\n",
       "      <th>5</th>\n",
       "      <th>6</th>\n",
       "      <th>7</th>\n",
       "      <th>8</th>\n",
       "      <th>9</th>\n",
       "      <th>10</th>\n",
       "      <th>11</th>\n",
       "      <th>12</th>\n",
       "      <th>13</th>\n",
       "      <th>14</th>\n",
       "      <th>15</th>\n",
       "      <th>16</th>\n",
       "      <th>17</th>\n",
       "      <th>18</th>\n",
       "      <th>19</th>\n",
       "    </tr>\n",
       "  </thead>\n",
       "  <tbody>\n",
       "    <tr>\n",
       "      <th>Massive Attack</th>\n",
       "      <td>0.000000</td>\n",
       "      <td>0.000000</td>\n",
       "      <td>0.202269</td>\n",
       "      <td>0.000000</td>\n",
       "      <td>0.000000</td>\n",
       "      <td>0.000000</td>\n",
       "      <td>0.00000</td>\n",
       "      <td>0.891906</td>\n",
       "      <td>0.153679</td>\n",
       "      <td>0.009494</td>\n",
       "      <td>0.000000</td>\n",
       "      <td>0.297392</td>\n",
       "      <td>0.000000</td>\n",
       "      <td>0.058941</td>\n",
       "      <td>0.000000</td>\n",
       "      <td>0.000000</td>\n",
       "      <td>0.000000</td>\n",
       "      <td>0.000000</td>\n",
       "      <td>0.219013</td>\n",
       "      <td>0.000000</td>\n",
       "    </tr>\n",
       "    <tr>\n",
       "      <th>Sublime</th>\n",
       "      <td>0.000000</td>\n",
       "      <td>0.000000</td>\n",
       "      <td>0.000000</td>\n",
       "      <td>0.000000</td>\n",
       "      <td>0.000000</td>\n",
       "      <td>0.000000</td>\n",
       "      <td>0.00000</td>\n",
       "      <td>0.000000</td>\n",
       "      <td>0.000000</td>\n",
       "      <td>0.000000</td>\n",
       "      <td>0.000000</td>\n",
       "      <td>0.000000</td>\n",
       "      <td>0.000000</td>\n",
       "      <td>0.000000</td>\n",
       "      <td>0.000000</td>\n",
       "      <td>0.000000</td>\n",
       "      <td>0.000000</td>\n",
       "      <td>0.000000</td>\n",
       "      <td>1.000000</td>\n",
       "      <td>0.000000</td>\n",
       "    </tr>\n",
       "    <tr>\n",
       "      <th>Beastie Boys</th>\n",
       "      <td>0.000000</td>\n",
       "      <td>0.000000</td>\n",
       "      <td>0.000000</td>\n",
       "      <td>0.000000</td>\n",
       "      <td>0.000000</td>\n",
       "      <td>0.000000</td>\n",
       "      <td>0.00000</td>\n",
       "      <td>0.000000</td>\n",
       "      <td>0.000000</td>\n",
       "      <td>0.000000</td>\n",
       "      <td>0.000000</td>\n",
       "      <td>1.000000</td>\n",
       "      <td>0.000000</td>\n",
       "      <td>0.000000</td>\n",
       "      <td>0.000000</td>\n",
       "      <td>0.000000</td>\n",
       "      <td>0.000000</td>\n",
       "      <td>0.000000</td>\n",
       "      <td>0.000000</td>\n",
       "      <td>0.000000</td>\n",
       "    </tr>\n",
       "    <tr>\n",
       "      <th>Neil Young</th>\n",
       "      <td>0.316079</td>\n",
       "      <td>0.004547</td>\n",
       "      <td>0.000000</td>\n",
       "      <td>0.046774</td>\n",
       "      <td>0.000000</td>\n",
       "      <td>0.000000</td>\n",
       "      <td>0.00000</td>\n",
       "      <td>0.000000</td>\n",
       "      <td>0.000000</td>\n",
       "      <td>0.000000</td>\n",
       "      <td>0.000000</td>\n",
       "      <td>0.000000</td>\n",
       "      <td>0.000000</td>\n",
       "      <td>0.000000</td>\n",
       "      <td>0.000000</td>\n",
       "      <td>0.944133</td>\n",
       "      <td>0.078188</td>\n",
       "      <td>0.000000</td>\n",
       "      <td>0.019649</td>\n",
       "      <td>0.000000</td>\n",
       "    </tr>\n",
       "    <tr>\n",
       "      <th>Dead Kennedys</th>\n",
       "      <td>0.000000</td>\n",
       "      <td>0.099613</td>\n",
       "      <td>0.000000</td>\n",
       "      <td>0.674636</td>\n",
       "      <td>0.000000</td>\n",
       "      <td>0.000000</td>\n",
       "      <td>0.00000</td>\n",
       "      <td>0.000000</td>\n",
       "      <td>0.114166</td>\n",
       "      <td>0.639970</td>\n",
       "      <td>0.318793</td>\n",
       "      <td>0.000000</td>\n",
       "      <td>0.000000</td>\n",
       "      <td>0.000000</td>\n",
       "      <td>0.000000</td>\n",
       "      <td>0.103530</td>\n",
       "      <td>0.000000</td>\n",
       "      <td>0.000000</td>\n",
       "      <td>0.000000</td>\n",
       "      <td>0.000000</td>\n",
       "    </tr>\n",
       "    <tr>\n",
       "      <th>...</th>\n",
       "      <td>...</td>\n",
       "      <td>...</td>\n",
       "      <td>...</td>\n",
       "      <td>...</td>\n",
       "      <td>...</td>\n",
       "      <td>...</td>\n",
       "      <td>...</td>\n",
       "      <td>...</td>\n",
       "      <td>...</td>\n",
       "      <td>...</td>\n",
       "      <td>...</td>\n",
       "      <td>...</td>\n",
       "      <td>...</td>\n",
       "      <td>...</td>\n",
       "      <td>...</td>\n",
       "      <td>...</td>\n",
       "      <td>...</td>\n",
       "      <td>...</td>\n",
       "      <td>...</td>\n",
       "      <td>...</td>\n",
       "    </tr>\n",
       "    <tr>\n",
       "      <th>Franz Ferdinand</th>\n",
       "      <td>0.000000</td>\n",
       "      <td>0.000000</td>\n",
       "      <td>0.000000</td>\n",
       "      <td>0.000000</td>\n",
       "      <td>0.003607</td>\n",
       "      <td>0.000000</td>\n",
       "      <td>0.00000</td>\n",
       "      <td>0.000000</td>\n",
       "      <td>0.000000</td>\n",
       "      <td>0.000000</td>\n",
       "      <td>0.999969</td>\n",
       "      <td>0.000000</td>\n",
       "      <td>0.000000</td>\n",
       "      <td>0.000000</td>\n",
       "      <td>0.000000</td>\n",
       "      <td>0.000000</td>\n",
       "      <td>0.000000</td>\n",
       "      <td>0.006942</td>\n",
       "      <td>0.000000</td>\n",
       "      <td>0.000000</td>\n",
       "    </tr>\n",
       "    <tr>\n",
       "      <th>The Postal Service</th>\n",
       "      <td>0.000000</td>\n",
       "      <td>0.000000</td>\n",
       "      <td>0.000000</td>\n",
       "      <td>0.000000</td>\n",
       "      <td>0.007580</td>\n",
       "      <td>0.000000</td>\n",
       "      <td>0.00000</td>\n",
       "      <td>0.000000</td>\n",
       "      <td>0.999911</td>\n",
       "      <td>0.000000</td>\n",
       "      <td>0.000000</td>\n",
       "      <td>0.000000</td>\n",
       "      <td>0.000000</td>\n",
       "      <td>0.000000</td>\n",
       "      <td>0.002339</td>\n",
       "      <td>0.000000</td>\n",
       "      <td>0.000000</td>\n",
       "      <td>0.010685</td>\n",
       "      <td>0.000000</td>\n",
       "      <td>0.000000</td>\n",
       "    </tr>\n",
       "    <tr>\n",
       "      <th>The Dresden Dolls</th>\n",
       "      <td>0.000000</td>\n",
       "      <td>0.104391</td>\n",
       "      <td>0.169355</td>\n",
       "      <td>0.000000</td>\n",
       "      <td>0.000000</td>\n",
       "      <td>0.352282</td>\n",
       "      <td>0.00000</td>\n",
       "      <td>0.000000</td>\n",
       "      <td>0.096578</td>\n",
       "      <td>0.175999</td>\n",
       "      <td>0.218800</td>\n",
       "      <td>0.000000</td>\n",
       "      <td>0.315923</td>\n",
       "      <td>0.000000</td>\n",
       "      <td>0.000000</td>\n",
       "      <td>0.000000</td>\n",
       "      <td>0.316790</td>\n",
       "      <td>0.498322</td>\n",
       "      <td>0.545800</td>\n",
       "      <td>0.041902</td>\n",
       "    </tr>\n",
       "    <tr>\n",
       "      <th>The Killers</th>\n",
       "      <td>0.000000</td>\n",
       "      <td>0.000000</td>\n",
       "      <td>0.000000</td>\n",
       "      <td>0.000000</td>\n",
       "      <td>0.000000</td>\n",
       "      <td>0.002418</td>\n",
       "      <td>0.00000</td>\n",
       "      <td>0.000000</td>\n",
       "      <td>0.000000</td>\n",
       "      <td>0.000000</td>\n",
       "      <td>0.000000</td>\n",
       "      <td>0.002641</td>\n",
       "      <td>0.007292</td>\n",
       "      <td>0.004210</td>\n",
       "      <td>0.000000</td>\n",
       "      <td>0.000000</td>\n",
       "      <td>0.000000</td>\n",
       "      <td>0.999958</td>\n",
       "      <td>0.000000</td>\n",
       "      <td>0.000000</td>\n",
       "    </tr>\n",
       "    <tr>\n",
       "      <th>Death From Above 1979</th>\n",
       "      <td>0.000000</td>\n",
       "      <td>0.000000</td>\n",
       "      <td>0.399655</td>\n",
       "      <td>0.000000</td>\n",
       "      <td>0.000000</td>\n",
       "      <td>0.000000</td>\n",
       "      <td>0.01176</td>\n",
       "      <td>0.000000</td>\n",
       "      <td>0.232718</td>\n",
       "      <td>0.000000</td>\n",
       "      <td>0.000000</td>\n",
       "      <td>0.002652</td>\n",
       "      <td>0.000000</td>\n",
       "      <td>0.065516</td>\n",
       "      <td>0.000000</td>\n",
       "      <td>0.000000</td>\n",
       "      <td>0.466790</td>\n",
       "      <td>0.000000</td>\n",
       "      <td>0.365915</td>\n",
       "      <td>0.655664</td>\n",
       "    </tr>\n",
       "  </tbody>\n",
       "</table>\n",
       "<p>111 rows × 20 columns</p>\n",
       "</div>"
      ],
      "text/plain": [
       "                             0         1         2         3         4   \\\n",
       "Massive Attack         0.000000  0.000000  0.202269  0.000000  0.000000   \n",
       "Sublime                0.000000  0.000000  0.000000  0.000000  0.000000   \n",
       "Beastie Boys           0.000000  0.000000  0.000000  0.000000  0.000000   \n",
       "Neil Young             0.316079  0.004547  0.000000  0.046774  0.000000   \n",
       "Dead Kennedys          0.000000  0.099613  0.000000  0.674636  0.000000   \n",
       "...                         ...       ...       ...       ...       ...   \n",
       "Franz Ferdinand        0.000000  0.000000  0.000000  0.000000  0.003607   \n",
       "The Postal Service     0.000000  0.000000  0.000000  0.000000  0.007580   \n",
       "The Dresden Dolls      0.000000  0.104391  0.169355  0.000000  0.000000   \n",
       "The Killers            0.000000  0.000000  0.000000  0.000000  0.000000   \n",
       "Death From Above 1979  0.000000  0.000000  0.399655  0.000000  0.000000   \n",
       "\n",
       "                             5        6         7         8         9   \\\n",
       "Massive Attack         0.000000  0.00000  0.891906  0.153679  0.009494   \n",
       "Sublime                0.000000  0.00000  0.000000  0.000000  0.000000   \n",
       "Beastie Boys           0.000000  0.00000  0.000000  0.000000  0.000000   \n",
       "Neil Young             0.000000  0.00000  0.000000  0.000000  0.000000   \n",
       "Dead Kennedys          0.000000  0.00000  0.000000  0.114166  0.639970   \n",
       "...                         ...      ...       ...       ...       ...   \n",
       "Franz Ferdinand        0.000000  0.00000  0.000000  0.000000  0.000000   \n",
       "The Postal Service     0.000000  0.00000  0.000000  0.999911  0.000000   \n",
       "The Dresden Dolls      0.352282  0.00000  0.000000  0.096578  0.175999   \n",
       "The Killers            0.002418  0.00000  0.000000  0.000000  0.000000   \n",
       "Death From Above 1979  0.000000  0.01176  0.000000  0.232718  0.000000   \n",
       "\n",
       "                             10        11        12        13        14  \\\n",
       "Massive Attack         0.000000  0.297392  0.000000  0.058941  0.000000   \n",
       "Sublime                0.000000  0.000000  0.000000  0.000000  0.000000   \n",
       "Beastie Boys           0.000000  1.000000  0.000000  0.000000  0.000000   \n",
       "Neil Young             0.000000  0.000000  0.000000  0.000000  0.000000   \n",
       "Dead Kennedys          0.318793  0.000000  0.000000  0.000000  0.000000   \n",
       "...                         ...       ...       ...       ...       ...   \n",
       "Franz Ferdinand        0.999969  0.000000  0.000000  0.000000  0.000000   \n",
       "The Postal Service     0.000000  0.000000  0.000000  0.000000  0.002339   \n",
       "The Dresden Dolls      0.218800  0.000000  0.315923  0.000000  0.000000   \n",
       "The Killers            0.000000  0.002641  0.007292  0.004210  0.000000   \n",
       "Death From Above 1979  0.000000  0.002652  0.000000  0.065516  0.000000   \n",
       "\n",
       "                             15        16        17        18        19  \n",
       "Massive Attack         0.000000  0.000000  0.000000  0.219013  0.000000  \n",
       "Sublime                0.000000  0.000000  0.000000  1.000000  0.000000  \n",
       "Beastie Boys           0.000000  0.000000  0.000000  0.000000  0.000000  \n",
       "Neil Young             0.944133  0.078188  0.000000  0.019649  0.000000  \n",
       "Dead Kennedys          0.103530  0.000000  0.000000  0.000000  0.000000  \n",
       "...                         ...       ...       ...       ...       ...  \n",
       "Franz Ferdinand        0.000000  0.000000  0.006942  0.000000  0.000000  \n",
       "The Postal Service     0.000000  0.000000  0.010685  0.000000  0.000000  \n",
       "The Dresden Dolls      0.000000  0.316790  0.498322  0.545800  0.041902  \n",
       "The Killers            0.000000  0.000000  0.999958  0.000000  0.000000  \n",
       "Death From Above 1979  0.000000  0.466790  0.000000  0.365915  0.655664  \n",
       "\n",
       "[111 rows x 20 columns]"
      ]
     },
     "execution_count": 46,
     "metadata": {},
     "output_type": "execute_result"
    }
   ],
   "source": [
    "df"
   ]
  },
  {
   "cell_type": "code",
   "execution_count": 47,
   "id": "2aa7397d-6854-47a5-9487-ad36b7108668",
   "metadata": {},
   "outputs": [],
   "source": [
    "artist = df.loc['Bruce Springsteen']"
   ]
  },
  {
   "cell_type": "code",
   "execution_count": 48,
   "id": "709ed688-2917-45fb-b824-90137dcde120",
   "metadata": {},
   "outputs": [],
   "source": [
    "# Compute cosine similarities\n",
    "similarities = df.dot(artist)"
   ]
  },
  {
   "cell_type": "code",
   "execution_count": 49,
   "id": "5f1237a2-d658-4f52-acc9-25235a37e610",
   "metadata": {},
   "outputs": [
    {
     "data": {
      "text/plain": [
       "Bruce Springsteen    1.000000\n",
       "Leonard Cohen        0.964422\n",
       "Neil Young           0.951538\n",
       "The Beach Boys       0.858917\n",
       "Van Morrison         0.841303\n",
       "dtype: float64"
      ]
     },
     "execution_count": 49,
     "metadata": {},
     "output_type": "execute_result"
    }
   ],
   "source": [
    "# Display those with highest cosine similarity\n",
    "similarities.nlargest()"
   ]
  },
  {
   "cell_type": "markdown",
   "id": "2b6cca40-cbc0-4abe-8df2-5530d61b240b",
   "metadata": {},
   "source": [
    "Here, we can see the names of the artists most similar to Bruce Springsteen."
   ]
  },
  {
   "cell_type": "code",
   "execution_count": null,
   "id": "1209780d-2a14-4684-bbc2-2e3b0a1eb640",
   "metadata": {},
   "outputs": [],
   "source": []
  }
 ],
 "metadata": {
  "kernelspec": {
   "display_name": "datacampenv",
   "language": "python",
   "name": "datacampenv"
  },
  "language_info": {
   "codemirror_mode": {
    "name": "ipython",
    "version": 3
   },
   "file_extension": ".py",
   "mimetype": "text/x-python",
   "name": "python",
   "nbconvert_exporter": "python",
   "pygments_lexer": "ipython3",
   "version": "3.9.10"
  }
 },
 "nbformat": 4,
 "nbformat_minor": 5
}
