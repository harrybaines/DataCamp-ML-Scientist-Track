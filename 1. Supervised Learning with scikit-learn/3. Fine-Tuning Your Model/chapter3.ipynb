{
 "cells": [
  {
   "cell_type": "markdown",
   "id": "7326cd41-3ac2-4538-b600-c701ae9d82eb",
   "metadata": {},
   "source": [
    "# Chapter 3 - Fine-Tuning Your Model"
   ]
  },
  {
   "cell_type": "markdown",
   "id": "b5e79ef0-14d7-453f-8da5-1e7cd8908670",
   "metadata": {},
   "source": [
    "## Classification metrics"
   ]
  },
  {
   "cell_type": "code",
   "execution_count": null,
   "id": "cf28872f-1e43-457d-bc52-f46ba9b68a69",
   "metadata": {},
   "outputs": [],
   "source": []
  }
 ],
 "metadata": {
  "kernelspec": {
   "display_name": "datacampenv",
   "language": "python",
   "name": "datacampenv"
  },
  "language_info": {
   "codemirror_mode": {
    "name": "ipython",
    "version": 3
   },
   "file_extension": ".py",
   "mimetype": "text/x-python",
   "name": "python",
   "nbconvert_exporter": "python",
   "pygments_lexer": "ipython3",
   "version": "3.9.10"
  }
 },
 "nbformat": 4,
 "nbformat_minor": 5
}
